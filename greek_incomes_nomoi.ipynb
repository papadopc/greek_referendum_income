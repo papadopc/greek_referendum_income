{
 "metadata": {
  "name": "",
  "signature": "sha256:960a56668eb44b9e35e1a8ccb65eae0617281d4865f8563eab5de6986e1fd2a0"
 },
 "nbformat": 3,
 "nbformat_minor": 0,
 "worksheets": [
  {
   "cells": [
    {
     "cell_type": "code",
     "collapsed": false,
     "input": [
      "import pandas as pd\n",
      "import matplotlib.pylab as plt\n",
      "import sys  \n",
      "\n",
      "reload(sys)  \n",
      "sys.setdefaultencoding('utf8')\n",
      "%matplotlib inline"
     ],
     "language": "python",
     "metadata": {},
     "outputs": [],
     "prompt_number": 8
    },
    {
     "cell_type": "code",
     "collapsed": false,
     "input": [
      "df=pd.read_csv(\"referendum_results.csv\")"
     ],
     "language": "python",
     "metadata": {},
     "outputs": [],
     "prompt_number": 9
    },
    {
     "cell_type": "code",
     "collapsed": false,
     "input": [
      "df.head()"
     ],
     "language": "python",
     "metadata": {},
     "outputs": [
      {
       "html": [
        "<div style=\"max-height:1000px;max-width:1500px;overflow:auto;\">\n",
        "<table border=\"1\" class=\"dataframe\">\n",
        "  <thead>\n",
        "    <tr style=\"text-align: right;\">\n",
        "      <th></th>\n",
        "      <th>Nomos</th>\n",
        "      <th> TaxPayers</th>\n",
        "      <th> Income</th>\n",
        "      <th> MeanIncome</th>\n",
        "      <th> ResultNO</th>\n",
        "    </tr>\n",
        "  </thead>\n",
        "  <tbody>\n",
        "    <tr>\n",
        "      <th>0</th>\n",
        "      <td>                   \u0391\u03b8\u03b7\u03bd\u03b1</td>\n",
        "      <td> 619354.333333</td>\n",
        "      <td> 13052004.666667</td>\n",
        "      <td> 21.073566</td>\n",
        "      <td> 0.5832</td>\n",
        "    </tr>\n",
        "    <tr>\n",
        "      <th>1</th>\n",
        "      <td>                \u03a0\u03b5\u03b9\u03c1\u03b1\u03b9\u03ac\u03c2</td>\n",
        "      <td> 303347.000000</td>\n",
        "      <td>  5313819.000000</td>\n",
        "      <td> 17.517295</td>\n",
        "      <td> 0.6601</td>\n",
        "    </tr>\n",
        "    <tr>\n",
        "      <th>2</th>\n",
        "      <td>             \u0398\u03b5\u03c3\u03c3\u03b1\u03bb\u03bf\u03bd\u03b9\u03ba\u03b7</td>\n",
        "      <td> 564649.000000</td>\n",
        "      <td>  9565434.000000</td>\n",
        "      <td> 16.940496</td>\n",
        "      <td> 0.6036</td>\n",
        "    </tr>\n",
        "    <tr>\n",
        "      <th>3</th>\n",
        "      <td> \u039d\u03bf\u03bc\u03cc\u03c2 \u0391\u03b9\u03c4\u03c9\u03bb\u03bf\u03b1\u03ba\u03b1\u03c1\u03bd\u03b1\u03bd\u03af\u03b1\u03c2 </td>\n",
        "      <td> 106571.000000</td>\n",
        "      <td>  1419881.000000</td>\n",
        "      <td> 13.323334</td>\n",
        "      <td> 0.6090</td>\n",
        "    </tr>\n",
        "    <tr>\n",
        "      <th>4</th>\n",
        "      <td>        \u039d\u03bf\u03bc\u03cc\u03c2 \u0391\u03c1\u03b3\u03bf\u03bb\u03af\u03b4\u03bf\u03c2 </td>\n",
        "      <td>  53063.000000</td>\n",
        "      <td>   756262.000000</td>\n",
        "      <td> 14.252153</td>\n",
        "      <td> 0.5765</td>\n",
        "    </tr>\n",
        "  </tbody>\n",
        "</table>\n",
        "</div>"
       ],
       "metadata": {},
       "output_type": "pyout",
       "prompt_number": 10,
       "text": [
        "                     Nomos      TaxPayers           Income   MeanIncome  \\\n",
        "0                    \u0391\u03b8\u03b7\u03bd\u03b1  619354.333333  13052004.666667    21.073566   \n",
        "1                 \u03a0\u03b5\u03b9\u03c1\u03b1\u03b9\u03ac\u03c2  303347.000000   5313819.000000    17.517295   \n",
        "2              \u0398\u03b5\u03c3\u03c3\u03b1\u03bb\u03bf\u03bd\u03b9\u03ba\u03b7  564649.000000   9565434.000000    16.940496   \n",
        "3  \u039d\u03bf\u03bc\u03cc\u03c2 \u0391\u03b9\u03c4\u03c9\u03bb\u03bf\u03b1\u03ba\u03b1\u03c1\u03bd\u03b1\u03bd\u03af\u03b1\u03c2   106571.000000   1419881.000000    13.323334   \n",
        "4         \u039d\u03bf\u03bc\u03cc\u03c2 \u0391\u03c1\u03b3\u03bf\u03bb\u03af\u03b4\u03bf\u03c2    53063.000000    756262.000000    14.252153   \n",
        "\n",
        "    ResultNO  \n",
        "0     0.5832  \n",
        "1     0.6601  \n",
        "2     0.6036  \n",
        "3     0.6090  \n",
        "4     0.5765  "
       ]
      }
     ],
     "prompt_number": 10
    },
    {
     "cell_type": "code",
     "collapsed": false,
     "input": [
      "df.columns=[\"Nomos\", \"TaxPayers\", \"Income\", \"MeanIncome\", \"ResultNO\"]"
     ],
     "language": "python",
     "metadata": {},
     "outputs": [],
     "prompt_number": 14
    },
    {
     "cell_type": "code",
     "collapsed": false,
     "input": [
      "df.plot(kind=\"scatter\",x=\"MeanIncome\",y=\"ResultNO\")"
     ],
     "language": "python",
     "metadata": {},
     "outputs": [
      {
       "metadata": {},
       "output_type": "pyout",
       "prompt_number": 15,
       "text": [
        "<matplotlib.axes._subplots.AxesSubplot at 0x7f99ef4a9710>"
       ]
      },
      {
       "metadata": {},
       "output_type": "display_data",
       "png": "[encoded data removed]",
       "text": [
        "<matplotlib.figure.Figure at 0x7f99ef529850>"
       ]
      }
     ],
     "prompt_number": 15
    },
    {
     "cell_type": "code",
     "collapsed": false,
     "input": [],
     "language": "python",
     "metadata": {},
     "outputs": []
    }
   ],
   "metadata": {}
  }
 ]
}